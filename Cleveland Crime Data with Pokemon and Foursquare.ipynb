{
    "nbformat_minor": 1, 
    "cells": [
        {
            "source": "## Cleveland Crime Data Correlating Pokemon Go and Foursquare Social Media Geo-Location Data\n### Princeton Brooke, Data Scientist\n", 
            "cell_type": "markdown", 
            "metadata": {
                "collapsed": true
            }
        }, 
        {
            "source": "## Introduction/Business Problem\n#### This project will apply Data Science Methodology by examining Cleveland crime data to determine if correlations exist between Pokemon Go and Foursquare Social Media Geo-Location Data.", 
            "cell_type": "markdown", 
            "metadata": {}
        }, 
        {
            "source": "## Data\n#### This project will focus on data acquired from the city of Cleveland, Ohio. I will also gather geo-location data on the Pokemon Go Pokestop hubs within the Greater Cleveland region and use the Foursquare API to query social media checkin data.", 
            "cell_type": "markdown", 
            "metadata": {}
        }
    ], 
    "metadata": {
        "kernelspec": {
            "display_name": "Python 3.5", 
            "name": "python3", 
            "language": "python"
        }, 
        "language_info": {
            "mimetype": "text/x-python", 
            "nbconvert_exporter": "python", 
            "version": "3.5.5", 
            "name": "python", 
            "file_extension": ".py", 
            "pygments_lexer": "ipython3", 
            "codemirror_mode": {
                "version": 3, 
                "name": "ipython"
            }
        }
    }, 
    "nbformat": 4
}